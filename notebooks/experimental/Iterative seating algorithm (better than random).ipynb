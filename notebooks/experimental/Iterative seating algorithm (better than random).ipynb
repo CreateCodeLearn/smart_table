{
 "cells": [
  {
   "cell_type": "markdown",
   "metadata": {},
   "source": [
    "# Iterative seating algorithm\n",
    "\n",
    "## General Idea\n",
    "The algorithm picks a random set of guests for one table and compares it with another random set. The set with a higher \"closeness\" score is kept and then compared to new random sets until a better one is found. The algorithm runs for a predefined number of iterations per table. The final set for the first table is then removed from the guest matrix and the seating function runs again for the next table. This continues until all guests are seated.\n",
    "\n",
    "## Open issues\n",
    "  - How to save data? -> IDEA: save initial dataframe use result indices to derive guests from headers and delete for each table similar to the guest matrix\n",
    "  - last iteration unnessecary -> IF attending / seats_per_table == 1 : seat everyone at the last table w/o iteration\n",
    "  - increase performance by decreasing iterations? -> assumption: it's more likely to find better results quicker when fewer seats are available\n",
    "  - How to write seating for one table as a function to then be called within the tables loop\n",
    "  - rename variables for better readability"
   ]
  },
  {
   "cell_type": "code",
   "execution_count": null,
   "metadata": {},
   "outputs": [],
   "source": [
    "# import libraries\n",
    "import pandas as pd\n",
    "import numpy as np\n",
    "\n",
    "# read in test data and transform into an np array for later calculations\n",
    "guest_matrix =np.array(pd.read_csv(\"../../data/test_guest.csv\", sep=\";\",usecols= [1,2,3,4,5,6,7,8,9,10]))\n",
    "\n",
    "# initial values for number of people, seats per table, iterations\n",
    "attending = 10\n",
    "seats_per_table = 5\n",
    "iters = 50\n",
    "\n",
    "#def seating_iterative(attending, seats_per_table, iters, guest_matrix):\n",
    " \n",
    "while attending > 0:  \n",
    "    # create binary numpy array with given values\n",
    "    arr_bin = np.array([1]*seats_per_table + [0]*(attending - seats_per_table) )\n",
    "\n",
    "    # for testing only\n",
    "    np.random.shuffle(arr_bin)\n",
    "    \n",
    "    # initialise best fit and best array for comparison\n",
    "    arr_best = np.array(arr_bin)\n",
    "    fit_best = guest_matrix.dot(arr_best).dot(arr_best)\n",
    "\n",
    "    # while loop for seating iteratively \n",
    "    i = 0\n",
    "    while i < iters:\n",
    "        np.random.shuffle(arr_bin)\n",
    "        fit_new = guest_matrix.dot(arr_bin).dot(arr_bin)\n",
    "\n",
    "        if fit_new > fit_best:\n",
    "            arr_best = np.array(arr_bin)\n",
    "            fit_best = fit_new\n",
    "    #print statement for testing only\n",
    "        print (arr_best, \"; \", fit_best, \"; \",arr_bin, \"; \",fit_new)\n",
    "        i += 1\n",
    "\n",
    "    # determine indices of rows to be deleted \n",
    "    get_indexes = lambda arr_best, xs: [j for (y, j) in zip(xs, range(len(xs))) if arr_best == y]\n",
    "    i_del = get_indexes(1,arr_best)\n",
    "    print(i_del)\n",
    "\n",
    "    # deleting seated guests from guest matrix\n",
    "    guest_matrix = np.delete(guest_matrix, i_del, 0)\n",
    "    guest_matrix = np.delete(guest_matrix, i_del, 1)\n",
    "    print(guest_matrix)\n",
    "    \n",
    "    # minimise attending\n",
    "    attending -= seats_per_table\n",
    "\n",
    "    \n",
    "    \n",
    "# calling seating algorithm until all guests are seated\n",
    "#while attending > 0:\n",
    "    "
   ]
  },
  {
   "cell_type": "code",
   "execution_count": null,
   "metadata": {},
   "outputs": [],
   "source": []
  }
 ],
 "metadata": {
  "kernelspec": {
   "display_name": "Python 3",
   "language": "python",
   "name": "python3"
  },
  "language_info": {
   "codemirror_mode": {
    "name": "ipython",
    "version": 3
   },
   "file_extension": ".py",
   "mimetype": "text/x-python",
   "name": "python",
   "nbconvert_exporter": "python",
   "pygments_lexer": "ipython3",
   "version": "3.6.5"
  }
 },
 "nbformat": 4,
 "nbformat_minor": 2
}
