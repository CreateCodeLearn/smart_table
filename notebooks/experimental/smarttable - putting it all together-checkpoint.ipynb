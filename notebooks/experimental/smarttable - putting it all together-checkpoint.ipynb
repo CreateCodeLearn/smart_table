{
 "cells": [
  {
   "cell_type": "markdown",
   "metadata": {},
   "source": [
    "Source: [PuLP Documentation: Case Studies: A Set Partitioning Problem](https://pythonhosted.org/PuLP/CaseStudies/a_set_partitioning_problem.html)"
   ]
  },
  {
   "cell_type": "markdown",
   "metadata": {},
   "source": [
    "# Smart table - putting it all together"
   ]
  },
  {
   "cell_type": "code",
   "execution_count": 3,
   "metadata": {},
   "outputs": [],
   "source": [
    "%load_ext autoreload\n",
    "%autoreload 2"
   ]
  },
  {
   "cell_type": "code",
   "execution_count": 4,
   "metadata": {},
   "outputs": [
    {
     "name": "stdout",
     "output_type": "stream",
     "text": [
      "---------------------------------\n",
      "Root directory is set to C:\\Users\\josi\\Documents\\CreateCodeLearn_Apr_May_18\n"
     ]
    }
   ],
   "source": [
    "# set root directory\n",
    "import os\n",
    "import sys\n",
    "ROOT = os.path.abspath(os.path.join(os.getcwd(), os.pardir, os.pardir))\n",
    "print(\"---------------------------------\\nRoot directory is set to {}\".format(ROOT))\n",
    "# add the 'src' directory as one where we can import modules\n",
    "for src in [\"src\"]:\n",
    "    src_dir = os.path.abspath(os.path.join(ROOT, \"projects\", 'smarttable', src))    \n",
    "    sys.path.append(src_dir)"
   ]
  },
  {
   "cell_type": "code",
   "execution_count": 5,
   "metadata": {},
   "outputs": [],
   "source": [
    "import pandas as pd\n",
    "import smarttable_data_processing as hf"
   ]
  },
  {
   "cell_type": "markdown",
   "metadata": {},
   "source": [
    "## Load data "
   ]
  },
  {
   "cell_type": "code",
   "execution_count": 6,
   "metadata": {},
   "outputs": [],
   "source": [
    "data = pd.read_excel(\"./data/Sample Data.xlsx\", skiprows=2)\n",
    "data = data.applymap(lambda x: x.strip())\n",
    "data.columns = [x.strip() for x in data.columns]"
   ]
  },
  {
   "cell_type": "code",
   "execution_count": 7,
   "metadata": {},
   "outputs": [
    {
     "data": {
      "text/plain": [
       "['Kim Kardashian',\n",
       " 'Kanye West',\n",
       " 'Kris Jenner',\n",
       " 'Bruce Jenner',\n",
       " 'Khourtney Kardashian',\n",
       " 'Khloe Kardashian',\n",
       " 'Rob Kardashian',\n",
       " 'Kendall Jenner',\n",
       " 'Kylie Jenner',\n",
       " 'Paris Hilton',\n",
       " 'Nicky Hilton',\n",
       " 'Nicole Richie',\n",
       " 'Jessica Alba',\n",
       " 'Donda West',\n",
       " 'Ray West',\n",
       " 'Rihanna Fenty',\n",
       " 'Jay-Z Carter',\n",
       " 'Beyoncé Carter',\n",
       " 'John Legend',\n",
       " 'Jennifer Lopez',\n",
       " 'Sean Combs']"
      ]
     },
     "execution_count": 7,
     "metadata": {},
     "output_type": "execute_result"
    }
   ],
   "source": [
    "guests = data.apply(lambda x: \" \".join((x[\"First Name\"], x[\"Surname\"])), axis=1).values.tolist()\n",
    "guests"
   ]
  },
  {
   "cell_type": "markdown",
   "metadata": {},
   "source": [
    "## Compile optimization function"
   ]
  },
  {
   "cell_type": "code",
   "execution_count": 16,
   "metadata": {},
   "outputs": [],
   "source": [
    "def optimize_seating(guests, max_tables, table_size, *args, **kwargs):\n",
    "    '''\n",
    "    \n",
    "    '''\n",
    "    import pulp\n",
    "    #create list of all possible tables\n",
    "    possible_tables = [tuple(c) for c in pulp.allcombinations(guests, table_size[1])]\n",
    "\n",
    "    # drop tabels with small combinations\n",
    "    possible_tables = [t for t in possible_tables if len(t) >=table_size[0]]\n",
    "\n",
    "    #create a binary variable to state that a table setting is used\n",
    "    x = pulp.LpVariable.dicts('table', possible_tables, \n",
    "                                lowBound = 0,\n",
    "                                upBound = 1,\n",
    "                                cat = pulp.LpInteger)\n",
    "\n",
    "    seating_model = pulp.LpProblem(\"Wedding Seating Model\", pulp.LpMaximize)\n",
    "\n",
    "    seating_model += pulp.lpSum([hf.happiness(table, *args, **kwargs) * x[table] for table in possible_tables])\n",
    "\n",
    "    #specify the maximum number of tables\n",
    "    seating_model += pulp.lpSum([x[table] for table in possible_tables]) <= max_tables, \"Maximum_number_of_tables\"\n",
    "\n",
    "\n",
    "    #A guest must seated at one and only one table\n",
    "    for guest in guests:\n",
    "        seating_model += pulp.lpSum([x[table] for table in possible_tables\n",
    "                                    if guest in table]) == 1, \"Must_seat_{}\".format(guest)\n",
    "\n",
    "    seating_model.solve()\n",
    "\n",
    "    rv = []    \n",
    "    for table in possible_tables:\n",
    "        if x[table].value() == 1.0:\n",
    "            rv.append(table)\n",
    "\n",
    "    return rv"
   ]
  },
  {
   "cell_type": "code",
   "execution_count": 21,
   "metadata": {},
   "outputs": [],
   "source": [
    "update_dict = {\n",
    "    ('Bride', 'Groom'): 20,\n",
    "    ('Bride', \"Kim's Mom\"): 7,\n",
    "    ('Bride', \"Kim's Dad\"): 7,\n",
    "    ('Bride', \"Kim's Sister\"): 3,\n",
    "    ('Bride', \"Kim's Brother\"): 3,\n",
    "    ('Bride', \"Kim's Friend (work)\"): 2,\n",
    "    ('Bride', \"Kanye's Mom\"): 2,\n",
    "    ('Bride', \"Kanye's Dad\"): 2,\n",
    "    ('Bride', \"Kanye's Friend (work)\"): -2,\n",
    "    ('Groom', \"Kim's Mom\"): 5,\n",
    "    ('Groom', \"Kim's Dad\"): 5,\n",
    "    ('Groom', \"Kim's Friend (work)\"): -2,\n",
    "    ('Groom', \"Kanye's Mom\"): 7,\n",
    "    ('Groom', \"Kanye's Dad\"): 7,\n",
    "    ('Groom', \"Kanye's Friend (work)\"): 2,\n",
    "}   "
   ]
  },
  {
   "cell_type": "code",
   "execution_count": 22,
   "metadata": {},
   "outputs": [
    {
     "data": {
      "text/plain": [
       "7.0"
      ]
     },
     "execution_count": 22,
     "metadata": {},
     "output_type": "execute_result"
    }
   ],
   "source": [
    "hf.happiness(table=[\"Kim Kardashian\", \"Kris Jenner\"], update_dict=update_dict)"
   ]
  },
  {
   "cell_type": "code",
   "execution_count": 23,
   "metadata": {},
   "outputs": [
    {
     "name": "stdout",
     "output_type": "stream",
     "text": [
      "Wall time: 1min 4s\n"
     ]
    },
    {
     "data": {
      "text/plain": [
       "[('Kim Kardashian', 'Kanye West', 'Kris Jenner'),\n",
       " ('Bruce Jenner', 'Khourtney Kardashian', 'John Legend'),\n",
       " ('Khloe Kardashian', 'Paris Hilton', 'Jessica Alba'),\n",
       " ('Rob Kardashian', 'Ray West', 'Sean Combs'),\n",
       " ('Kendall Jenner', 'Donda West', 'Rihanna Fenty'),\n",
       " ('Kylie Jenner', 'Jay-Z Carter', 'Beyoncé Carter'),\n",
       " ('Nicky Hilton', 'Nicole Richie', 'Jennifer Lopez')]"
      ]
     },
     "execution_count": 23,
     "metadata": {},
     "output_type": "execute_result"
    }
   ],
   "source": [
    "%%time\n",
    "optimize_seating(guests=guests, max_tables=7, table_size = (2,3), update_dict=update_dict)"
   ]
  },
  {
   "cell_type": "code",
   "execution_count": null,
   "metadata": {},
   "outputs": [],
   "source": []
  }
 ],
 "metadata": {
  "kernelspec": {
   "display_name": "Python 3",
   "language": "python",
   "name": "python3"
  },
  "language_info": {
   "codemirror_mode": {
    "name": "ipython",
    "version": 3
   },
   "file_extension": ".py",
   "mimetype": "text/x-python",
   "name": "python",
   "nbconvert_exporter": "python",
   "pygments_lexer": "ipython3",
   "version": "3.6.5"
  }
 },
 "nbformat": 4,
 "nbformat_minor": 2
}
