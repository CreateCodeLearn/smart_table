{
 "cells": [
  {
   "cell_type": "markdown",
   "metadata": {},
   "source": [
    "#  Experimental setup"
   ]
  },
  {
   "cell_type": "markdown",
   "metadata": {},
   "source": [
    "## Global inputs"
   ]
  },
  {
   "cell_type": "code",
   "execution_count": null,
   "metadata": {},
   "outputs": [],
   "source": [
    "%matplotlib inline\n",
    "import numpy as np\n",
    "import pandas as pd"
   ]
  },
  {
   "cell_type": "markdown",
   "metadata": {},
   "source": [
    "## Thinking about the algorithm\n",
    "\n",
    "Question on stackoverflow\n",
    "\n",
    "  * https://stackoverflow.com/questions/20832994/how-to-seat-everyone-according-to-preferences\n",
    "  \n",
    "Similar problem solved in R using a Genetic Algorithm\n",
    "\n",
    "  * https://github.com/meganstiles/Seating_Chart\n",
    "  \n",
    "  1. understand solution\n",
    "    * Introduction to genetic algorithms https://www.codeproject.com/articles/1104747/introduction-to-genetic-algorithms-with-python-hel\n",
    "  2. try to translate it into python\n",
    "  3. expand given algorithm (variable size of guestlist, tables, attributes, translation attributes to closeness matrix)"
   ]
  },
  {
   "cell_type": "markdown",
   "metadata": {},
   "source": [
    "### Genetic Algorithm based on the tutorial"
   ]
  },
  {
   "cell_type": "code",
   "execution_count": 9,
   "metadata": {},
   "outputs": [
    {
     "name": "stdout",
     "output_type": "stream",
     "text": [
      "YBO!gbuaZfUX\t0\t0:00:00.002023\n",
      "YBO!gbuarfUX\t1\t0:00:00.003700\n",
      "YBO!g uarfUX\t2\t0:00:00.005794\n",
      "YBO!g uarlUX\t3\t0:00:00.008408\n",
      "YBOlg uarlUX\t4\t0:00:00.009524\n",
      "YBOlg uorlUX\t5\t0:00:00.012788\n",
      "YBllg uorlUX\t6\t0:00:00.013352\n",
      "YBllg uorlU!\t7\t0:00:00.020888\n",
      "YBllg WorlU!\t8\t0:00:00.024426\n",
      "HBllg WorlU!\t9\t0:00:00.027949\n",
      "Hellg WorlU!\t10\t0:00:00.031175\n",
      "Hellg World!\t11\t0:00:00.040477\n",
      "Hello World!\t12\t0:00:00.042242\n"
     ]
    }
   ],
   "source": [
    "# write a basic genetic algorithm to make educated guesses on the composition of a string\n",
    "# 1. implement geneset and target\n",
    "geneSet = \" abcdefghijklmnopqrstuvwxyzABCDEFGHIJKLMNOPQRSTUVWXYZ!.\" #possible letters\n",
    "target = \"Hello World!\" # solution\n",
    "\n",
    "# 2. generate a random guess\n",
    "import random\n",
    "\n",
    "def generate_parent(length):\n",
    "    genes = []\n",
    "    while len(genes) < length:\n",
    "        sampleSize = min(length - len(genes), len(geneSet))\n",
    "        genes.extend(random.sample(geneSet, sampleSize))\n",
    "    return ''.join(genes)\n",
    "\n",
    "# 3. fitness -> provide feedback -> how well does the guess fit the target\n",
    "def get_fitness(guess):\n",
    "    return sum(1 for expected, actual in zip(target, guess)\n",
    "               if expected == actual)\n",
    "\n",
    "# 4. mutation\n",
    "def mutate(parent):\n",
    "    index = random.randrange(0, len(parent))\n",
    "    childGenes = list(parent)\n",
    "    newGene, alternate = random.sample(geneSet, 2)\n",
    "    childGenes[index] = alternate \\\n",
    "        if newGene == childGenes[index] \\\n",
    "        else newGene\n",
    "    return ''.join(childGenes)\n",
    "\n",
    "# 5. feedback\n",
    "import datetime\n",
    "\n",
    "def display(guess):\n",
    "    timeDiff = datetime.datetime.now() - startTime\n",
    "    fitness = get_fitness(guess)\n",
    "    print(\"{0}\\t{1}\\t{2}\".format(guess, fitness, str(timeDiff)))\n",
    "    \n",
    "    \n",
    "# main function -> intialise best parent as random sequence\n",
    "random.seed()\n",
    "startTime = datetime.datetime.now()\n",
    "bestParent = generate_parent(len(target))\n",
    "bestFitness = get_fitness(bestParent)\n",
    "display(bestParent)\n",
    "\n",
    "# loop for iteration over multiple generations always keeping the better fitting one\n",
    "while True:\n",
    "    child = mutate(bestParent)\n",
    "    childFitness = get_fitness(child)\n",
    "\n",
    "    if bestFitness >= childFitness:\n",
    "        continue\n",
    "    display(child)\n",
    "    if childFitness >= len(bestParent):\n",
    "        break\n",
    "    bestFitness = childFitness\n",
    "    bestParent = child\n"
   ]
  },
  {
   "cell_type": "code",
   "execution_count": null,
   "metadata": {},
   "outputs": [],
   "source": []
  }
 ],
 "metadata": {
  "kernelspec": {
   "display_name": "Python 3",
   "language": "python",
   "name": "python3"
  },
  "language_info": {
   "codemirror_mode": {
    "name": "ipython",
    "version": 3
   },
   "file_extension": ".py",
   "mimetype": "text/x-python",
   "name": "python",
   "nbconvert_exporter": "python",
   "pygments_lexer": "ipython3",
   "version": "3.6.5"
  }
 },
 "nbformat": 4,
 "nbformat_minor": 2
}
