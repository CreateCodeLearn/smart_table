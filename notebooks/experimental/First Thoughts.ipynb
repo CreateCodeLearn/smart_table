{
 "cells": [
  {
   "cell_type": "markdown",
   "metadata": {},
   "source": [
    "#  Experimental setup"
   ]
  },
  {
   "cell_type": "markdown",
   "metadata": {},
   "source": [
    "## Global inputs"
   ]
  },
  {
   "cell_type": "code",
   "execution_count": 2,
   "metadata": {},
   "outputs": [],
   "source": [
    "%matplotlib inline\n",
    "import numpy as np\n",
    "import pandas as pd"
   ]
  },
  {
   "cell_type": "markdown",
   "metadata": {},
   "source": [
    "## Thinking about the algorithm\n",
    "\n",
    "Question on stackoverflow\n",
    "\n",
    "  * https://stackoverflow.com/questions/20832994/how-to-seat-everyone-according-to-preferences\n",
    "  \n",
    "Similar problem solved in R using a Genetic Algorithm\n",
    "\n",
    "  * https://github.com/meganstiles/Seating_Chart\n",
    "  \n",
    "  1. understand solution\n",
    "    * Introduction to genetic algorithms https://www.codeproject.com/articles/1104747/introduction-to-genetic-algorithms-with-python-hel\n",
    "  2. try to translate it into python\n",
    "  3. expand given algorithm (variable size of guestlist, tables, attributes, translation attributes to closeness matrix)"
   ]
  },
  {
   "cell_type": "markdown",
   "metadata": {},
   "source": [
    "### Genetic Algorithm based on the tutorial"
   ]
  },
  {
   "cell_type": "code",
   "execution_count": 9,
   "metadata": {},
   "outputs": [
    {
     "name": "stdout",
     "output_type": "stream",
     "text": [
      "YBO!gbuaZfUX\t0\t0:00:00.002023\n",
      "YBO!gbuarfUX\t1\t0:00:00.003700\n",
      "YBO!g uarfUX\t2\t0:00:00.005794\n",
      "YBO!g uarlUX\t3\t0:00:00.008408\n",
      "YBOlg uarlUX\t4\t0:00:00.009524\n",
      "YBOlg uorlUX\t5\t0:00:00.012788\n",
      "YBllg uorlUX\t6\t0:00:00.013352\n",
      "YBllg uorlU!\t7\t0:00:00.020888\n",
      "YBllg WorlU!\t8\t0:00:00.024426\n",
      "HBllg WorlU!\t9\t0:00:00.027949\n",
      "Hellg WorlU!\t10\t0:00:00.031175\n",
      "Hellg World!\t11\t0:00:00.040477\n",
      "Hello World!\t12\t0:00:00.042242\n"
     ]
    }
   ],
   "source": [
    "# write a basic genetic algorithm to make educated guesses on the composition of a string\n",
    "# 1. implement geneset and target\n",
    "geneSet = \" abcdefghijklmnopqrstuvwxyzABCDEFGHIJKLMNOPQRSTUVWXYZ!.\" #possible letters\n",
    "target = \"Hello World!\" # solution\n",
    "\n",
    "# 2. generate a random guess\n",
    "import random\n",
    "\n",
    "def generate_parent(length):\n",
    "    genes = []\n",
    "    while len(genes) < length:\n",
    "        sampleSize = min(length - len(genes), len(geneSet))\n",
    "        genes.extend(random.sample(geneSet, sampleSize))\n",
    "    return ''.join(genes)\n",
    "\n",
    "# 3. fitness -> provide feedback -> how well does the guess fit the target\n",
    "def get_fitness(guess):\n",
    "    return sum(1 for expected, actual in zip(target, guess)\n",
    "               if expected == actual)\n",
    "\n",
    "# 4. mutation\n",
    "def mutate(parent):\n",
    "    index = random.randrange(0, len(parent))\n",
    "    childGenes = list(parent)\n",
    "    newGene, alternate = random.sample(geneSet, 2)\n",
    "    childGenes[index] = alternate \\\n",
    "        if newGene == childGenes[index] \\\n",
    "        else newGene\n",
    "    return ''.join(childGenes)\n",
    "\n",
    "# 5. feedback\n",
    "import datetime\n",
    "\n",
    "def display(guess):\n",
    "    timeDiff = datetime.datetime.now() - startTime\n",
    "    fitness = get_fitness(guess)\n",
    "    print(\"{0}\\t{1}\\t{2}\".format(guess, fitness, str(timeDiff)))\n",
    "    \n",
    "    \n",
    "# main function -> intialise best parent as random sequence\n",
    "random.seed()\n",
    "startTime = datetime.datetime.now()\n",
    "bestParent = generate_parent(len(target))\n",
    "bestFitness = get_fitness(bestParent)\n",
    "display(bestParent)\n",
    "\n",
    "# loop for iteration over multiple generations always keeping the better fitting one\n",
    "while True:\n",
    "    child = mutate(bestParent)\n",
    "    childFitness = get_fitness(child)\n",
    "\n",
    "    if bestFitness >= childFitness:\n",
    "        continue\n",
    "    display(child)\n",
    "    if childFitness >= len(bestParent):\n",
    "        break\n",
    "    bestFitness = childFitness\n",
    "    bestParent = child\n"
   ]
  },
  {
   "cell_type": "markdown",
   "metadata": {},
   "source": [
    "# First try with small data set"
   ]
  },
  {
   "cell_type": "markdown",
   "metadata": {},
   "source": [
    "approach:\n",
    "  - define guest matrix\n",
    "  - define binary array with specific proportions (# of 1s = seats per table) -> https://stackoverflow.com/questions/19597473/binary-random-array-with-a-specific-proportion-of-ones\n",
    "  - \"fitness\" or \"happiness\" or \"closeness\" = (Guestmatrix *x* array_bin) *x* array_bin\n",
    "  - randomly shuffle array_bin for n iterations compare fitness, keep better one\n",
    "  - remove picked guests from guestmatrix (delete rows & columns)\n",
    "  - run again for next table\n",
    "  - repeat till all guests are seated"
   ]
  },
  {
   "cell_type": "code",
   "execution_count": 103,
   "metadata": {},
   "outputs": [
    {
     "data": {
      "text/plain": [
       "array([[   0, 2000,  200,  200,  200,    0,    0,    0,    0,    0],\n",
       "       [2000,    0,  200,  200,  200,    0,    0,    0,    0,    0],\n",
       "       [ 200,  200,    0,  200, 2000,    0,    0,    0,    0,    0],\n",
       "       [ 200,  200,  200,    0,  200,    0,    0,    0,    0,    0],\n",
       "       [ 200,  200, 2000,  200,    0,    0,  200,    0,    0,    0],\n",
       "       [   0,    0,    0,    0,    0,    0, 2000,  200,  200,    0],\n",
       "       [   0,    0,    0,    0,  200, 2000,    0,    0,  200,  200],\n",
       "       [   0,    0,    0,    0,    0,  200,    0,    0,  200,  200],\n",
       "       [   0,    0,    0,    0,    0,  200,  200,  200,    0, 2000],\n",
       "       [   0,    0,    0,    0,    0,    0,  200,  200, 2000,    0]])"
      ]
     },
     "execution_count": 103,
     "metadata": {},
     "output_type": "execute_result"
    }
   ],
   "source": [
    "# read in test data and transform into an np array for later calculations\n",
    "guest_matrix =np.array(pd.read_csv(\"../../data/test_guest.csv\", sep=\";\",usecols= [1,2,3,4,5,6,7,8,9,10]))\n",
    "guest_matrix"
   ]
  },
  {
   "cell_type": "code",
   "execution_count": 104,
   "metadata": {},
   "outputs": [
    {
     "data": {
      "text/plain": [
       "array([1, 1, 1, 1, 1, 0, 0, 0, 0, 0])"
      ]
     },
     "execution_count": 104,
     "metadata": {},
     "output_type": "execute_result"
    }
   ],
   "source": [
    "# creation of binary array based on number of attending people and seats per table\n",
    "attending = 10\n",
    "seats_per_table = 5\n",
    "\n",
    "arr_bin = np.array([1]*seats_per_table + [0]*(attending - seats_per_table) )\n",
    "\n",
    "#FOR TESTING ONLY !!!\n",
    "#np.random.shuffle(arr_bin)\n",
    "\n",
    "# for testing reasons assigned to a variable\n",
    "arr_1 = np.array(arr_bin)\n",
    "arr_best = np.array(arr_bin)\n",
    "fit_best = guest_matrix.dot(arr_best).dot(arr_best)\n",
    "arr_1"
   ]
  },
  {
   "cell_type": "code",
   "execution_count": 24,
   "metadata": {},
   "outputs": [],
   "source": [
    "# randomly shuffle array\n",
    "np.random.shuffle(arr_bin)"
   ]
  },
  {
   "cell_type": "code",
   "execution_count": 25,
   "metadata": {},
   "outputs": [],
   "source": [
    "\n",
    "arr_2 = arr_bin"
   ]
  },
  {
   "cell_type": "code",
   "execution_count": 26,
   "metadata": {},
   "outputs": [
    {
     "data": {
      "text/plain": [
       "array([1, 1, 1, 1, 1, 0, 0, 0, 0, 0])"
      ]
     },
     "execution_count": 26,
     "metadata": {},
     "output_type": "execute_result"
    }
   ],
   "source": [
    "arr_1 "
   ]
  },
  {
   "cell_type": "code",
   "execution_count": 27,
   "metadata": {},
   "outputs": [
    {
     "data": {
      "text/plain": [
       "array([0, 0, 0, 0, 1, 1, 1, 1, 1, 0])"
      ]
     },
     "execution_count": 27,
     "metadata": {},
     "output_type": "execute_result"
    }
   ],
   "source": [
    "arr_2"
   ]
  },
  {
   "cell_type": "code",
   "execution_count": 43,
   "metadata": {},
   "outputs": [
    {
     "data": {
      "text/plain": [
       "array([2600, 2600, 2600,  800, 2600,    0,  200,    0,    0,    0])"
      ]
     },
     "execution_count": 43,
     "metadata": {},
     "output_type": "execute_result"
    }
   ],
   "source": [
    "# testing calculation logic\n",
    "guest_matrix.dot(arr_1)"
   ]
  },
  {
   "cell_type": "code",
   "execution_count": 41,
   "metadata": {},
   "outputs": [
    {
     "data": {
      "text/plain": [
       "11200"
      ]
     },
     "execution_count": 41,
     "metadata": {},
     "output_type": "execute_result"
    }
   ],
   "source": [
    "guest_matrix.dot(arr_1).dot(arr_1)"
   ]
  },
  {
   "cell_type": "code",
   "execution_count": 44,
   "metadata": {},
   "outputs": [
    {
     "data": {
      "text/plain": [
       "array([ 200,  200, 2000,  200,  200, 2400, 2400,  400,  600, 2400])"
      ]
     },
     "execution_count": 44,
     "metadata": {},
     "output_type": "execute_result"
    }
   ],
   "source": [
    "guest_matrix.dot(arr_2)"
   ]
  },
  {
   "cell_type": "code",
   "execution_count": 42,
   "metadata": {},
   "outputs": [
    {
     "data": {
      "text/plain": [
       "6000"
      ]
     },
     "execution_count": 42,
     "metadata": {},
     "output_type": "execute_result"
    }
   ],
   "source": [
    "guest_matrix.dot(arr_2).dot(arr_2)"
   ]
  },
  {
   "cell_type": "code",
   "execution_count": 106,
   "metadata": {},
   "outputs": [
    {
     "name": "stdout",
     "output_type": "stream",
     "text": [
      "[1 1 1 1 1 0 0 0 0 0] ;  11200 ;  [0 1 1 0 1 0 0 0 1 1] ;  8800\n",
      "[1 1 1 1 1 0 0 0 0 0] ;  11200 ;  [1 0 0 1 1 0 1 1 0 0] ;  1600\n",
      "[1 1 1 1 1 0 0 0 0 0] ;  11200 ;  [0 0 1 0 1 1 0 0 1 1] ;  8400\n",
      "[1 1 1 1 1 0 0 0 0 0] ;  11200 ;  [1 0 0 0 0 1 0 1 1 1] ;  5600\n",
      "[1 1 1 1 1 0 0 0 0 0] ;  11200 ;  [1 0 1 0 0 1 1 0 0 1] ;  4800\n"
     ]
    }
   ],
   "source": [
    "iters = 5\n",
    "\n",
    "i = 0\n",
    "while i < iters:\n",
    "    np.random.shuffle(arr_bin)\n",
    "    fit_new = guest_matrix.dot(arr_bin).dot(arr_bin)\n",
    "    \n",
    "    if fit_new > fit_best:\n",
    "        arr_best = np.array(arr_bin)\n",
    "        fit_best = fit_new\n",
    "    print (arr_best, \"; \", fit_best, \"; \",arr_bin, \"; \",fit_new)\n",
    "    i += 1"
   ]
  },
  {
   "cell_type": "markdown",
   "metadata": {},
   "source": [
    "finding all occurences within an array: https://pythonspot.com/array-find/"
   ]
  },
  {
   "cell_type": "code",
   "execution_count": 107,
   "metadata": {
    "scrolled": true
   },
   "outputs": [
    {
     "name": "stdout",
     "output_type": "stream",
     "text": [
      "[0, 1, 2, 3, 4]\n"
     ]
    }
   ],
   "source": [
    "# determine indices of rows to be deleted \n",
    "get_indexes = lambda arr_best, xs: [j for (y, j) in zip(xs, range(len(xs))) if arr_best == y]\n",
    "i_del = get_indexes(1,arr_best)\n",
    "print(i_del)"
   ]
  },
  {
   "cell_type": "code",
   "execution_count": 108,
   "metadata": {},
   "outputs": [
    {
     "data": {
      "text/plain": [
       "array([[   0, 2000,  200,  200,    0],\n",
       "       [2000,    0,    0,  200,  200],\n",
       "       [ 200,    0,    0,  200,  200],\n",
       "       [ 200,  200,  200,    0, 2000],\n",
       "       [   0,  200,  200, 2000,    0]])"
      ]
     },
     "execution_count": 108,
     "metadata": {},
     "output_type": "execute_result"
    }
   ],
   "source": [
    "# deleting seated guests from guest matrix\n",
    "guest_matrix = np.delete(guest_matrix, i_del, 0)\n",
    "guest_matrix = np.delete(guest_matrix, i_del, 1)\n",
    "guest_matrix"
   ]
  },
  {
   "cell_type": "code",
   "execution_count": 68,
   "metadata": {},
   "outputs": [
    {
     "data": {
      "text/plain": [
       "array([[ 200,  200,    0,  200, 2000,    0,    0,    0,    0,    0],\n",
       "       [ 200,  200,  200,    0,  200,    0,    0,    0,    0,    0],\n",
       "       [ 200,  200, 2000,  200,    0,    0,  200,    0,    0,    0],\n",
       "       [   0,    0,    0,    0,    0,    0, 2000,  200,  200,    0],\n",
       "       [   0,    0,    0,    0,  200, 2000,    0,    0,  200,  200],\n",
       "       [   0,    0,    0,    0,    0,  200,    0,    0,  200,  200],\n",
       "       [   0,    0,    0,    0,    0,  200,  200,  200,    0, 2000],\n",
       "       [   0,    0,    0,    0,    0,    0,  200,  200, 2000,    0]])"
      ]
     },
     "execution_count": 68,
     "metadata": {},
     "output_type": "execute_result"
    }
   ],
   "source": [
    "guest_matrix"
   ]
  },
  {
   "cell_type": "code",
   "execution_count": null,
   "metadata": {},
   "outputs": [],
   "source": []
  }
 ],
 "metadata": {
  "kernelspec": {
   "display_name": "Python 3",
   "language": "python",
   "name": "python3"
  },
  "language_info": {
   "codemirror_mode": {
    "name": "ipython",
    "version": 3
   },
   "file_extension": ".py",
   "mimetype": "text/x-python",
   "name": "python",
   "nbconvert_exporter": "python",
   "pygments_lexer": "ipython3",
   "version": "3.6.5"
  }
 },
 "nbformat": 4,
 "nbformat_minor": 2
}
